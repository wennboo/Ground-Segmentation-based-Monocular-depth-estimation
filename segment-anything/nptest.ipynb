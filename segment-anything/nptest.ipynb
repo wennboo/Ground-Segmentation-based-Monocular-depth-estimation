{
 "cells": [
  {
   "cell_type": "code",
   "execution_count": 1,
   "metadata": {},
   "outputs": [
    {
     "name": "stdout",
     "output_type": "stream",
     "text": [
      "[[[ 0  1  2  3]\n",
      "  [ 4  5  6  7]\n",
      "  [ 8  9 10 11]]\n",
      "\n",
      " [[12 13 14 15]\n",
      "  [16 17 18 19]\n",
      "  [20 21 22 23]]]\n"
     ]
    }
   ],
   "source": [
    "import numpy as np\n",
    "matrixA = np.arange(24).reshape(2,3,4)\n",
    "print(matrixA)"
   ]
  },
  {
   "cell_type": "code",
   "execution_count": 3,
   "metadata": {},
   "outputs": [
    {
     "name": "stdout",
     "output_type": "stream",
     "text": [
      "(480, 640, 3)\n"
     ]
    }
   ],
   "source": [
    "import cv2\n",
    "img = cv2.imread(\"./input/ransacTest_image.png\")\n",
    "print(img.shape)"
   ]
  },
  {
   "cell_type": "code",
   "execution_count": 2,
   "metadata": {},
   "outputs": [
    {
     "name": "stdout",
     "output_type": "stream",
     "text": [
      "[[ 1  5  9]\n",
      " [13 17 21]]\n",
      "shape: (2, 3)\n",
      "[[ 1  5  9]\n",
      " [13 17 21]]\n",
      "(2, 3)\n"
     ]
    },
    {
     "data": {
      "text/plain": [
       "'\\n[[ 1  5  9]\\n [13 17 21]]\\nmatrixB shape: (2, 3)\\n'"
      ]
     },
     "execution_count": 2,
     "metadata": {},
     "output_type": "execute_result"
    }
   ],
   "source": [
    "print(matrixA[..., 1])\n",
    "print(\"shape:\",matrixA[...,1].shape)\n",
    "#输出结果matrixA\n",
    "\"\"\"\n",
    "[[ 1  5  9]\n",
    " [13 17 21]]\n",
    "matrixA shape: (2, 3)\n",
    "\"\"\"\n",
    "matrixB = np.arange(24).reshape(2,3,4)\n",
    "print(matrixB[:,:,1])\n",
    "print(matrixB[:,:,1].shape)\n",
    "#输出结果matrixB\n",
    "\"\"\"\n",
    "[[ 1  5  9]\n",
    " [13 17 21]]\n",
    "matrixB shape: (2, 3)\n",
    "\"\"\""
   ]
  }
 ],
 "metadata": {
  "kernelspec": {
   "display_name": "pytorch",
   "language": "python",
   "name": "python3"
  },
  "language_info": {
   "codemirror_mode": {
    "name": "ipython",
    "version": 3
   },
   "file_extension": ".py",
   "mimetype": "text/x-python",
   "name": "python",
   "nbconvert_exporter": "python",
   "pygments_lexer": "ipython3",
   "version": "3.9.16"
  },
  "orig_nbformat": 4
 },
 "nbformat": 4,
 "nbformat_minor": 2
}
