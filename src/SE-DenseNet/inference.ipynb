{
 "cells": [
  {
   "cell_type": "code",
   "execution_count": 2,
   "metadata": {},
   "outputs": [
    {
     "name": "stderr",
     "output_type": "stream",
     "text": [
      "Using TensorFlow backend.\n",
      "d:\\anaconda3\\envs\\tensflow1x\\lib\\site-packages\\tensorflow\\python\\framework\\dtypes.py:526: FutureWarning: Passing (type, 1) or '1type' as a synonym of type is deprecated; in a future version of numpy, it will be understood as (type, (1,)) / '(1,)type'.\n",
      "  _np_qint8 = np.dtype([(\"qint8\", np.int8, 1)])\n",
      "d:\\anaconda3\\envs\\tensflow1x\\lib\\site-packages\\tensorflow\\python\\framework\\dtypes.py:527: FutureWarning: Passing (type, 1) or '1type' as a synonym of type is deprecated; in a future version of numpy, it will be understood as (type, (1,)) / '(1,)type'.\n",
      "  _np_quint8 = np.dtype([(\"quint8\", np.uint8, 1)])\n",
      "d:\\anaconda3\\envs\\tensflow1x\\lib\\site-packages\\tensorflow\\python\\framework\\dtypes.py:528: FutureWarning: Passing (type, 1) or '1type' as a synonym of type is deprecated; in a future version of numpy, it will be understood as (type, (1,)) / '(1,)type'.\n",
      "  _np_qint16 = np.dtype([(\"qint16\", np.int16, 1)])\n",
      "d:\\anaconda3\\envs\\tensflow1x\\lib\\site-packages\\tensorflow\\python\\framework\\dtypes.py:529: FutureWarning: Passing (type, 1) or '1type' as a synonym of type is deprecated; in a future version of numpy, it will be understood as (type, (1,)) / '(1,)type'.\n",
      "  _np_quint16 = np.dtype([(\"quint16\", np.uint16, 1)])\n",
      "d:\\anaconda3\\envs\\tensflow1x\\lib\\site-packages\\tensorflow\\python\\framework\\dtypes.py:530: FutureWarning: Passing (type, 1) or '1type' as a synonym of type is deprecated; in a future version of numpy, it will be understood as (type, (1,)) / '(1,)type'.\n",
      "  _np_qint32 = np.dtype([(\"qint32\", np.int32, 1)])\n",
      "d:\\anaconda3\\envs\\tensflow1x\\lib\\site-packages\\tensorflow\\python\\framework\\dtypes.py:535: FutureWarning: Passing (type, 1) or '1type' as a synonym of type is deprecated; in a future version of numpy, it will be understood as (type, (1,)) / '(1,)type'.\n",
      "  np_resource = np.dtype([(\"resource\", np.ubyte, 1)])\n"
     ]
    }
   ],
   "source": [
    "import os\n",
    "import glob\n",
    "import argparse\n",
    "import matplotlib\n",
    "\n",
    "# Keras / TensorFlow\n",
    "os.environ['TF_CPP_MIN_LOG_LEVEL'] = '5'\n",
    "from keras.models import load_model\n",
    "from layers import BilinearUpSampling2D\n",
    "from utils import predict, load_images, display_images\n",
    "from matplotlib import pyplot as plt\n",
    "import skimage\n",
    "from skimage.transform import resize\n",
    "\n",
    "import numpy as np\n",
    "import cv2\n",
    "from PIL import Image\n"
   ]
  },
  {
   "cell_type": "code",
   "execution_count": 10,
   "metadata": {},
   "outputs": [],
   "source": [
    "# Argument Parser\n",
    "parser = argparse.ArgumentParser(description='High Quality Monocular Depth Estimation via Transfer Learning')\n",
    "parser.add_argument('--model', default='nyu.h5', type=str, help='Trained Keras model file.')\n",
    "parser.add_argument('--input', default='examples/*.png', type=str, help='Input filename or folder.')\n",
    "args,unknown = parser.parse_known_args()"
   ]
  },
  {
   "cell_type": "code",
   "execution_count": 4,
   "metadata": {},
   "outputs": [
    {
     "name": "stdout",
     "output_type": "stream",
     "text": [
      "Loading model...\n",
      "WARNING:tensorflow:From d:\\anaconda3\\envs\\tensflow1x\\lib\\site-packages\\tensorflow\\python\\framework\\op_def_library.py:263: colocate_with (from tensorflow.python.framework.ops) is deprecated and will be removed in a future version.\n",
      "Instructions for updating:\n",
      "Colocations handled automatically by placer.\n",
      "\n",
      "Model loaded (nyu.h5).\n"
     ]
    }
   ],
   "source": [
    "# Custom object needed for inference and training\n",
    "#双线性采样\n",
    "custom_objects = {'BilinearUpSampling2D': BilinearUpSampling2D, 'depth_loss_function': None}\n",
    "\n",
    "print('Loading model...')\n",
    "\n",
    "# Load model into GPU / CPU\n",
    "model = load_model(args.model, custom_objects=custom_objects, compile=False)\n",
    "\n",
    "print('\\nModel loaded ({0}).'.format(args.model))"
   ]
  },
  {
   "cell_type": "code",
   "execution_count": 11,
   "metadata": {},
   "outputs": [
    {
     "name": "stdout",
     "output_type": "stream",
     "text": [
      "\n",
      "Loaded (1) images of size (480, 640, 3).\n",
      "(1, 240, 320, 1)\n"
     ]
    }
   ],
   "source": [
    "# Input images\n",
    "inputs = load_images( glob.glob(args.input) )\n",
    "print('\\nLoaded ({0}) images of size {1}.'.format(inputs.shape[0], inputs.shape[1:]))\n",
    "\n",
    "# Compute results\n",
    "outputs = predict(model, inputs)\n",
    "print(outputs.shape)"
   ]
  },
  {
   "cell_type": "code",
   "execution_count": 6,
   "metadata": {},
   "outputs": [],
   "source": [
    "from skimage import io\n",
    "def corp_margin(img):\n",
    "        img2=img.sum(axis=2)\n",
    "        (row,col)=img2.shape\n",
    "        row_top=0\n",
    "        raw_down=0\n",
    "        col_top=0\n",
    "        col_down=0\n",
    "        for r in range(0,row):\n",
    "                if img2.sum(axis=1)[r]<700*col:\n",
    "                        row_top=r\n",
    "                        break\n",
    " \n",
    "        for r in range(row-1,0,-1):\n",
    "                if img2.sum(axis=1)[r]<700*col:\n",
    "                        raw_down=r\n",
    "                        break\n",
    " \n",
    "        for c in range(0,col):\n",
    "                if img2.sum(axis=0)[c]<700*row:\n",
    "                        col_top=c\n",
    "                        break\n",
    " \n",
    "        for c in range(col-1,0,-1):\n",
    "                if img2.sum(axis=0)[c]<700*row:\n",
    "                        col_down=c\n",
    "                        break\n",
    " \n",
    "        new_img=img[row_top:raw_down+1,col_top:col_down+1,0:3]\n",
    "        return new_img\n",
    "\n",
    "# viz1 = display_images(outputs.copy())\n",
    "# img_re = corp_margin(viz1)\n",
    "# io.imsave('result.png',img_re)\n",
    "# io.imshow(img_re)\n"
   ]
  },
  {
   "cell_type": "code",
   "execution_count": 12,
   "metadata": {},
   "outputs": [
    {
     "name": "stderr",
     "output_type": "stream",
     "text": [
      "Lossy conversion from float64 to uint8. Range [0, 1]. Convert image to uint8 prior to saving to suppress this warning.\n"
     ]
    },
    {
     "name": "stdout",
     "output_type": "stream",
     "text": [
      "<class 'numpy.ndarray'> (1, 240, 320, 1)\n",
      "<class 'numpy.ndarray'>\n",
      "(240, 320, 3)\n",
      "修改后尺寸： (480, 640, 3)\n"
     ]
    }
   ],
   "source": [
    "#将推理图像还原为尺寸640*480*3的png图像\n",
    "#matplotlib problem on ubuntu terminal fix\n",
    "#matplotlib.use('TkAgg')   \n",
    "\n",
    "# Display results\n",
    "print(type(outputs),outputs.shape)\n",
    "# img = outputs[0][:,:,0]\n",
    "# print(img.shape)\n",
    "# viz = display_images(outputs.copy(), inputs.copy())\n",
    "viz1 = display_images(outputs.copy())\n",
    "viz1_re = corp_margin(viz1)\n",
    "print(type(viz1_re))\n",
    "print(viz1_re.shape)\n",
    "# viz1_re = viz1_re.resize((480, 640), Image.ANTIALIAS)\n",
    "viz1_re = cv2.resize(viz1_re, dsize=(640,480), interpolation=cv2.INTER_LINEAR)\n",
    "print(\"修改后尺寸：\",viz1_re.shape)\n",
    "#cv2\n",
    "# print(type(viz1_re))\n",
    "# print(viz1_re.shape)\n",
    "# # viz1_re = cv2.cvtColor(viz1_re, cv2.COLOR_BGR2RGB)\n",
    "\n",
    "# cv2.imshow('input_image', viz1)\n",
    "# cv2.imwrite('./realPics_t3/1_image_depth.png', viz1)\n",
    "\n",
    "# print(type(viz1))\n",
    "# print(viz1.shape)\n",
    "# #img = outputs\n",
    "# # img = outputs.copy()\n",
    "# # plt.figure(figsize=(10,5))\n",
    "# plt.axis('off')# 不显示坐标轴\n",
    "# plt.margins(0,0)\n",
    "# plt.subplots_adjust(top=1,bottom=0,left=0,right=1,hspace=0,wspace=0)\n",
    "# plt.imshow(viz1_re)\n",
    "# plt.savefig('./realPics_t3/5_image_depth.png')\n",
    "# plt.show()\n",
    "\n",
    "io.imsave('./paperpic/pic7_plasma_depth.png',viz1_re)\n",
    "# io.imshow(viz1_re)\n"
   ]
  },
  {
   "cell_type": "code",
   "execution_count": 9,
   "metadata": {},
   "outputs": [
    {
     "data": {
      "text/plain": [
       "True"
      ]
     },
     "execution_count": 9,
     "metadata": {},
     "output_type": "execute_result"
    }
   ],
   "source": [
    "#图像大小调整\n",
    "import cv2\n",
    "\n",
    "# 改变图像大小\n",
    "import cv2\n",
    "im1 = cv2.imread('./examples/pic7.png')\n",
    "im2 = cv2.resize(im1,(640,480),)  # 为图片重新指定尺寸\n",
    "cv2.imwrite('./examples/pic7.png',im2)\n"
   ]
  },
  {
   "cell_type": "code",
   "execution_count": 13,
   "metadata": {},
   "outputs": [
    {
     "name": "stdout",
     "output_type": "stream",
     "text": [
      "[[[ 83 121 237]\n",
      "  [ 89 112 231]\n",
      "  [102  95 220]\n",
      "  ...\n",
      "  [147  38 172]\n",
      "  [142  44 179]\n",
      "  [139  48 182]]\n",
      "\n",
      " [[ 84 119 236]\n",
      "  [ 90 111 231]\n",
      "  [101  95 221]\n",
      "  ...\n",
      "  [148  37 171]\n",
      "  [144  42 177]\n",
      "  [141  45 180]]\n",
      "\n",
      " [[ 87 115 234]\n",
      "  [ 91 109 230]\n",
      "  [100  97 222]\n",
      "  ...\n",
      "  [149  35 169]\n",
      "  [147  38 173]\n",
      "  [146  40 175]]\n",
      "\n",
      " ...\n",
      "\n",
      " [[168   0 105]\n",
      "  [168   0 105]\n",
      "  [168   0 105]\n",
      "  ...\n",
      "  [166   1  95]\n",
      "  [167   1 102]\n",
      "  [167   0 105]]\n",
      "\n",
      " [[168   1 112]\n",
      "  [168   1 111]\n",
      "  [168   0 110]\n",
      "  ...\n",
      "  [167   1 100]\n",
      "  [168   1 109]\n",
      "  [168   1 113]]\n",
      "\n",
      " [[168   1 116]\n",
      "  [168   1 115]\n",
      "  [168   0 112]\n",
      "  ...\n",
      "  [167   1 102]\n",
      "  [168   1 112]\n",
      "  [168   1 117]]]\n",
      "(480, 640, 3) 480 640\n"
     ]
    },
    {
     "data": {
      "text/plain": [
       "-1"
      ]
     },
     "execution_count": 13,
     "metadata": {},
     "output_type": "execute_result"
    }
   ],
   "source": [
    "#灰度图伪彩色上色\n",
    "import cv2\n",
    "import numpy as np\n",
    "def turn_plasma(img):\n",
    "    for i in range(480):\n",
    "        for j in range(640):\n",
    "            img[i,j] = 255 - img[i,j]\n",
    "    return img\n",
    "\n",
    "#gray = cv2.imread('./paperpic/pic1_1.png',0)  # 读取灰度图像\n",
    "img_bgr = cv2.imread('./paperpic/pic7_plasma_depth.png')\n",
    "gray = cv2.cvtColor(img_bgr, cv2.COLOR_BGR2GRAY)\n",
    "print(img_bgr)\n",
    "#cv2.imwrite('./paperpic/pic1_plasma_depth1.png',iFColor)\n",
    "# cv2.imshow('iFColor',gray)\n",
    "# cv2.waitKey()\n",
    "\n",
    "h, w = img_bgr.shape[:2]  # 图片的高度, 宽度\n",
    "print(img_bgr.shape,h ,w)\n",
    "#print(gray)\n",
    "# for i in range(h):\n",
    "#     for j in range(w):\n",
    "#         if img_bgr[i,j,0] > 20:\n",
    "#             img_bgr[i,j,0] = img_bgr[i,j,0] - 10\n",
    "#         else :\n",
    "#             img_bgr[i,j,0] = img_bgr[i,j,0]\n",
    "#         if img_bgr[i,j,1] > 10:\n",
    "#             img_bgr[i,j,1] = img_bgr[i,j,1] - 5\n",
    "#         else :\n",
    "#             img_bgr[i,j,1] = 15\n",
    "#         if img_bgr[i,j,2] < 230:\n",
    "#             img_bgr[i,j,2] = img_bgr[i,j,2] + 14\n",
    "#         else :\n",
    "#             img_bgr[i,j,2] = 255\n",
    "##归一化\n",
    "# ymax = 255\n",
    "# ymin = 0\n",
    "# xmax = max(map(max,gray))\n",
    "# xmin = min(map(min,gray))\n",
    " \n",
    "# for i in range(h):\n",
    "#     for j in range(w):\n",
    "#         gray[i][j] = round(((ymax-ymin)*(gray[i][j]-xmin)/(xmax-xmin))+ymin)\n",
    "\n",
    "# print(gray.shape)\n",
    "\n",
    "#gray = turn_plasma(gray)\n",
    "iFColor = cv2.applyColorMap(gray, colormap=cv2.COLORMAP_JET) #标准标签热力图\n",
    "#iFColor = cv2.applyColorMap(gray, colormap=cv2.COLORMAP_PLASMA) #标准标签  黄紫\n",
    "#iFColor = cv2.applyColorMap(gray, colormap=cv2.COLORMAP_PLASMA) #标准标签\n",
    "cv2.imwrite('./paperpic/pic7_jet_depth.png',iFColor)\n",
    "cv2.imshow('iFColor',iFColor)\n",
    "cv2.waitKey()\n"
   ]
  },
  {
   "cell_type": "code",
   "execution_count": 1,
   "metadata": {},
   "outputs": [
    {
     "data": {
      "text/plain": [
       "-1"
      ]
     },
     "execution_count": 1,
     "metadata": {},
     "output_type": "execute_result"
    }
   ],
   "source": [
    "#灰度图深度图\n",
    "import cv2\n",
    "gray = cv2.imread('./realPics_t3/499_image_depth.png',0)  # 读取灰度图像\n",
    "cv2.imwrite('./realPics_t3/499_image_depthgray.png',gray)\n",
    "cv2.imshow('iFColor',gray)\n",
    "cv2.waitKey()\n"
   ]
  },
  {
   "cell_type": "code",
   "execution_count": 1,
   "metadata": {},
   "outputs": [
    {
     "name": "stdout",
     "output_type": "stream",
     "text": [
      "(480, 640, 4)\n",
      "<class 'numpy.ndarray'>\n",
      "46\n"
     ]
    }
   ],
   "source": [
    "#深度图与分割图融合\n",
    "import cv2\n",
    "img_seg = cv2.imread(\"./paperpic/pic7_6.png\",cv2.IMREAD_UNCHANGED)\n",
    "#print(img_seg)\n",
    "print(img_seg.shape)\n",
    "print(type(img_seg))\n",
    "print(img_seg[0,0,0])"
   ]
  },
  {
   "cell_type": "code",
   "execution_count": 2,
   "metadata": {},
   "outputs": [
    {
     "name": "stdout",
     "output_type": "stream",
     "text": [
      "(480, 640, 3)\n",
      "<class 'numpy.ndarray'>\n"
     ]
    }
   ],
   "source": [
    "img_depth = cv2.imread(\"./paperpic/pic7_jet_depth.png\")\n",
    "#print(img_depth)\n",
    "print(img_depth.shape)\n",
    "print(type(img_depth))"
   ]
  },
  {
   "cell_type": "code",
   "execution_count": 4,
   "metadata": {},
   "outputs": [
    {
     "name": "stdout",
     "output_type": "stream",
     "text": [
      "480 640 3\n"
     ]
    },
    {
     "data": {
      "text/plain": [
       "True"
      ]
     },
     "execution_count": 4,
     "metadata": {},
     "output_type": "execute_result"
    }
   ],
   "source": [
    "# img_seg = cv2.imread(\"./realPics_t3/ransacTest_image_seg.jpg\")\n",
    "# print(img_seg)\n",
    "# print(img_seg.shape)\n",
    "\"\"\"\n",
    "白色rgb 255,255,255\n",
    "rgba 透明a=0\n",
    "cv2读取 bgr\n",
    "\"\"\"\n",
    "img_ultimate = img_depth.copy()\n",
    "i_u, j_u, k_u = img_ultimate.shape\n",
    "print(i_u,j_u,k_u)\n",
    "for i in range(i_u):\n",
    "    for j in range(j_u):\n",
    "        if img_seg[i,j,3] == 0:\n",
    "            img_ultimate[i,j,0] = 255\n",
    "            img_ultimate[i,j,1] = 255\n",
    "            img_ultimate[i,j,2] = 255\n",
    "        else:\n",
    "            img_ultimate[i,j,0] = img_depth[i,j,0]\n",
    "            img_ultimate[i,j,1] = img_depth[i,j,1]\n",
    "            img_ultimate[i,j,2] = img_depth[i,j,2]\n",
    "\n",
    "#img_ultimate = cv2.cvtColor(img_ultimate, cv2.COLOR_BGR2RGB)\n",
    "cv2.imwrite('./paperpic/pic7_ulti.jpg',img_ultimate)\n"
   ]
  },
  {
   "attachments": {},
   "cell_type": "markdown",
   "metadata": {},
   "source": [
    "\n",
    "##下面不不予理睬"
   ]
  },
  {
   "cell_type": "code",
   "execution_count": 5,
   "metadata": {},
   "outputs": [
    {
     "name": "stdout",
     "output_type": "stream",
     "text": [
      "<class 'bytes'> 16729\n"
     ]
    },
    {
     "ename": "FileNotFoundError",
     "evalue": "[Errno 2] No such file or directory: './realPics_t3/ransacTest_image_py.bin'",
     "output_type": "error",
     "traceback": [
      "\u001b[1;31m---------------------------------------------------------------------------\u001b[0m",
      "\u001b[1;31mFileNotFoundError\u001b[0m                         Traceback (most recent call last)",
      "\u001b[1;32m~\\AppData\\Local\\Temp\\ipykernel_17824\\2478284926.py\u001b[0m in \u001b[0;36m<module>\u001b[1;34m\u001b[0m\n\u001b[0;32m     39\u001b[0m \u001b[1;31m#写入bin文件\u001b[0m\u001b[1;33m\u001b[0m\u001b[1;33m\u001b[0m\u001b[0m\n\u001b[0;32m     40\u001b[0m \u001b[0mbinname\u001b[0m \u001b[1;33m=\u001b[0m \u001b[1;34m'./realPics_t3/ransacTest_image_py.bin'\u001b[0m\u001b[1;33m\u001b[0m\u001b[0m\n\u001b[1;32m---> 41\u001b[1;33m \u001b[0mbinfile\u001b[0m \u001b[1;33m=\u001b[0m \u001b[0mopen\u001b[0m\u001b[1;33m(\u001b[0m\u001b[0mbinname\u001b[0m \u001b[1;33m,\u001b[0m \u001b[1;34m'rb+'\u001b[0m\u001b[1;33m)\u001b[0m \u001b[1;31m#打开bin文件\u001b[0m\u001b[1;33m\u001b[0m\u001b[0m\n\u001b[0m\u001b[0;32m     42\u001b[0m \u001b[0mpickle\u001b[0m\u001b[1;33m.\u001b[0m\u001b[0mdump\u001b[0m\u001b[1;33m(\u001b[0m\u001b[0mimg_bin\u001b[0m\u001b[1;33m,\u001b[0m\u001b[0mbinfile\u001b[0m\u001b[1;33m)\u001b[0m \u001b[1;31m#写入datafarme\u001b[0m\u001b[1;33m\u001b[0m\u001b[0m\n",
      "\u001b[1;31mFileNotFoundError\u001b[0m: [Errno 2] No such file or directory: './realPics_t3/ransacTest_image_py.bin'"
     ]
    }
   ],
   "source": [
    "#图片转为.bin二进制数据\n",
    "import io\n",
    "import base64\n",
    "from PIL import Image\n",
    "import struct\n",
    "import os\n",
    "import pickle, glob\n",
    "\n",
    "def image2byte(image):\n",
    "    '''\n",
    "    图片转byte\n",
    "    image: 必须是PIL格式\n",
    "    image_bytes: 二进制\n",
    "    '''\n",
    "    # 创建一个字节流管道\n",
    "    img_bytes = io.BytesIO()\n",
    "    # #把PNG格式转换成的四通道转成RGB的三通道，然后再保存成jpg格式\n",
    "    # image = image.convert(\"RGB\")\n",
    "    # 将图片数据存入字节流管道， format可以按照具体文件的格式填写\n",
    "    image.save(img_bytes, format=\"JPEG\")\n",
    "    # 从字节流管道中获取二进制\n",
    "    image_bytes = img_bytes.getvalue()\n",
    "    return image_bytes\n",
    "\n",
    "def byte2image(byte_data):\n",
    "    '''\n",
    "    byte转为图片\n",
    "    byte_data: 二进制\n",
    "    '''\n",
    "    image = Image.open(io.BytesIO(byte_data))\n",
    "    return image\n",
    "\n",
    "\n",
    "img_path = './realPics_t3/ransacTest_image.png'\n",
    "img1 = Image.open(img_path)\n",
    "img_bin = image2byte(img1)\n",
    "print(type(img_bin),len(img_bin))\n",
    "\n",
    "#写入bin文件\n",
    "binname = './realPics_t3/ransacTest_image_py.bin'\n",
    "binfile = open(binname , 'rb+') #打开bin文件\n",
    "pickle.dump(img_bin,binfile) #写入datafarme\n"
   ]
  },
  {
   "cell_type": "code",
   "execution_count": 9,
   "metadata": {},
   "outputs": [],
   "source": [
    "#coding=utf-8\n",
    " \n",
    "'''\n",
    "1-将图片转化为数组并存为二进制文件\n",
    "2-从二进制文件中读取数并重新恢复为图片\n",
    "'''\n",
    " \n",
    "from __future__ import print_function\n",
    "import numpy\n",
    "import PIL.Image \n",
    "import pickle\n",
    "import matplotlib.pyplot\n",
    "import pdb\n",
    " \n",
    "class Operation(object):\n",
    "\timage_base_path = \"./rgb2bin/\"\n",
    "\tdata_base_path = \"./bin2rgb/\"\n",
    " \n",
    "\tdef image_to_array(self,filenames):\n",
    "\t\t\"\"\"\n",
    "\t\t将图片转化为数组并存为二进制文件\n",
    "\t\t\"\"\"\n",
    "\t\tn = filenames.__len__()#获取图片个数\n",
    "\t\tresult = numpy.array([]) #创建一个空的一维数组\n",
    "\t\tprint(\"开始将图片转化为数组\")\n",
    "\t\tfor i in range(n):\n",
    "\t\t\timage = PIL.Image.open(self.image_base_path+filenames[i])\n",
    "\t\t\tr,g,b = image.split() # rgb通道分离\n",
    "\t\t\t# 注意：下面一定要reshpae(1024)使其变为一维数组，否则拼接的数据会出现错误，导致无法恢复图片\n",
    "\t\t\tlength = 640*480\n",
    "\t\t\tr_arr = numpy.array(r).reshape(length)\n",
    "\t\t\tg_arr = numpy.array(g).reshape(length)\n",
    "\t\t\tb_arr = numpy.array(b).reshape(length)\n",
    "\t\t\t# 行拼接；最终结果：共n行，一行length列，为一张图片的rgb值\n",
    "\t\t\timage_arr = numpy.concatenate((r_arr,g_arr,b_arr))\n",
    "\t\t\tresult = numpy.concatenate((result,image_arr))\n",
    " \n",
    "\t\tresult = result.reshape(n,3072) # 将一维数组转化为n行3072列的二维数组\n",
    "\t\tprint(\"转化数组over，开始保存为文件\")\n",
    "\t\tfile_path = self.data_base_path + 'ransacTest_image_py.bin'\n",
    "\t\twith open(file_path,mode='wb') as f:\n",
    "\t\t\tpickle.dump(result,f)\n",
    "\t\tprint(\"保存成功\")\n",
    " \n",
    "\t# def array_to_image(self,filename):\n",
    "\t# \t'''\n",
    "\t# \t从二进制文件中读取数据并重新恢复为图片\n",
    "\t# \t'''\n",
    "\t# \twith open(self.data_base_path + filename,mode='rb') as f:\n",
    "\t# \t\tarr = pickle.load(f) #加载并反序列化数据\n",
    "\t# \trows = arr.shape[0] #rows=5\n",
    "\t# \t#pdb.set_trace()\n",
    "\t# \t#print(\"rows:\",rows)\n",
    "\t# \tarr = arr.reshape(rows,3,32,32)\n",
    "\t# \tprint(arr)\t#打印数组\n",
    "\t# \tfor index in range(rows):\n",
    "\t# \t\ta = arr[index]\n",
    "\t# \t\t#得到RGB通道\n",
    "\t# \t\tr = PIL.Image.fromarray(a[0]).convert('L')\n",
    "\t# \t\tg = PIL.Image.fromarray(a[1]).convert('L')\n",
    "\t# \t\tb = PIL.Image.fromarray(a[2]).convert('L')\n",
    "\t# \t\timage = PIL.Image.merge(\"RGB\",(r,g,b))\n",
    "\t# \t\t#显示图片\n",
    "\t# \t\tmatplotlib.pyplot.imshow(image)\n",
    "\t# \t\tmatplotlib.pyplot.show()\n",
    "\t# \t\t#image.save(self.image_base_path + \"result\" + str(index) + \".png\",'png')\n",
    " \n",
    "if __name__ == \"__main__\":\n",
    "\tmy_operator = Operation()\n",
    "\timages = []\n",
    "\tfor j in range(1):\n",
    "\t\timages.append(str(j) + \".png\")\n",
    "# #\tmy_operator.image_to_array(images)\n",
    "# \tmy_operator.array_to_image('ransacTest_image_py.bin')\n",
    " "
   ]
  },
  {
   "cell_type": "code",
   "execution_count": 11,
   "metadata": {},
   "outputs": [
    {
     "name": "stdout",
     "output_type": "stream",
     "text": [
      "开始将图片转化为数组\n",
      "转化数组over，开始保存为文件\n",
      "保存成功\n"
     ]
    }
   ],
   "source": [
    "#coding=utf-8\n",
    " \n",
    "'''\n",
    "1-将图片转化为数组并存为二进制文件\n",
    "2-从二进制文件中读取数并重新恢复为图片\n",
    "'''\n",
    " \n",
    "from __future__ import print_function\n",
    "import numpy\n",
    "import PIL.Image \n",
    "import pickle\n",
    "import matplotlib.pyplot\n",
    "import pdb\n",
    "\n",
    "def image_to_array(filenames):\n",
    "\t\t\"\"\"\n",
    "\t\t将图片转化为数组并存为二进制文件\n",
    "\t\t\"\"\"\n",
    "\t\timage_base_path = \"./bin2rgb/\"\n",
    "\t\tn = 1#获取图片个数\n",
    "\t\tresult = numpy.array([]) #创建一个空的一维数组\n",
    "\t\tprint(\"开始将图片转化为数组\")\n",
    "\t\tfor i in range(n):\n",
    "\t\t\timage = PIL.Image.open(image_base_path+filenames)\n",
    "\t\t\tr,g,b = image.split() # rgb通道分离\n",
    "\t\t\t# 注意：下面一定要reshpae(1024)使其变为一维数组，否则拼接的数据会出现错误，导致无法恢复图片\n",
    "\t\t\tlength = 640*480\n",
    "\t\t\tr_arr = numpy.array(r).reshape(length)\n",
    "\t\t\tg_arr = numpy.array(g).reshape(length)\n",
    "\t\t\tb_arr = numpy.array(b).reshape(length)\n",
    "\t\t\t# 行拼接；最终结果：共n行，一行length列，为一张图片的rgb值\n",
    "\t\t\timage_arr = numpy.concatenate((r_arr,g_arr,b_arr))\n",
    "\t\t\tresult = numpy.concatenate((result,image_arr))\n",
    " \n",
    "\t\tresult = result.reshape(n,length*3) # 将一维数组转化为n行3072列的二维数组\n",
    "\t\tprint(\"转化数组over，开始保存为文件\")\n",
    "\t\tfile_path = image_base_path + 'ransacTest_image_py.bin'\n",
    "\t\twith open(file_path,mode='wb') as f:\n",
    "\t\t\tpickle.dump(result,f)\n",
    "\t\tprint(\"保存成功\")\n",
    "\n",
    "filename = \"ransacTest_image.png\"\n",
    "image_to_array(filename)\n",
    "\t"
   ]
  }
 ],
 "metadata": {
  "kernelspec": {
   "display_name": "tensflow1x",
   "language": "python",
   "name": "python3"
  },
  "language_info": {
   "codemirror_mode": {
    "name": "ipython",
    "version": 3
   },
   "file_extension": ".py",
   "mimetype": "text/x-python",
   "name": "python",
   "nbconvert_exporter": "python",
   "pygments_lexer": "ipython3",
   "version": "3.7.0"
  },
  "orig_nbformat": 4
 },
 "nbformat": 4,
 "nbformat_minor": 2
}
